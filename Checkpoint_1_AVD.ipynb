{
  "nbformat": 4,
  "nbformat_minor": 0,
  "metadata": {
    "colab": {
      "provenance": []
    },
    "kernelspec": {
      "name": "python3",
      "display_name": "Python 3"
    },
    "language_info": {
      "name": "python"
    }
  },
  "cells": [
    {
      "cell_type": "markdown",
      "source": [
        "# Business Objective"
      ],
      "metadata": {
        "id": "5B1KfN_CpWKd"
      }
    },
    {
      "cell_type": "markdown",
      "source": [
        "Tujuan utama dari proyek ini adalah untuk menganalisis 300 channel YouTube teratas guna memahami pola keberhasilan mereka. Dengan informasi ini, bisnis, kreator konten, atau agensi pemasaran dapat membuat strategi yang lebih baik dalam meningkatkan performa channel mereka. Mengidentifikasi faktor utama yang berkontribusi terhadap pertumbuhan subscriber dan views, menganalisis tren YouTube dari perspektif performa channel."
      ],
      "metadata": {
        "id": "j9-vO7ALplSA"
      }
    },
    {
      "cell_type": "markdown",
      "source": [
        "# Assess Situation"
      ],
      "metadata": {
        "id": "KLE7yliMpy_N"
      }
    },
    {
      "cell_type": "markdown",
      "source": [
        "Sebelum melakukan analisis, kita perlu memahami kondisi dataset dan faktor eksternal yang dapat memengaruhi hasil:\n",
        "\n",
        "Analisis dalam Konteks Bisnis, YouTube adalah platform berbasis algoritma yang dipengaruhi oleh faktor-faktor seperti engagement rate, frekuensi upload, dan trending topics.\n",
        "Kompetisi antar channel sangat ketat, sehingga mengetahui strategi terbaik menjadi sangat penting.\n"
      ],
      "metadata": {
        "id": "8Uj5BVatqCTL"
      }
    },
    {
      "cell_type": "markdown",
      "source": [
        "# Data Mining Goals"
      ],
      "metadata": {
        "id": "80L26c3zsv-8"
      }
    },
    {
      "cell_type": "markdown",
      "source": [
        "Berdasarkan tujuan bisnis, berikut adalah beberapa target dalam analisis data:\n",
        "\n",
        "Analisis Popularitas Channel:\n",
        "Mengidentifikasi pola umum dari channel dengan subscriber terbanyak.\n",
        "Menentukan apakah jumlah video berpengaruh terhadap jumlah subscriber.\n",
        "\n",
        "Kategori Konten dan Performa:\n",
        "Menemukan kategori konten yang paling populer dan memiliki rata-rata views tinggi.\n",
        "Menganalisis apakah kategori tertentu lebih menguntungkan daripada yang lain.\n",
        "\n",
        "Prediksi Performa Channel Baru:\n",
        "Membuat model prediktif sederhana berdasarkan jumlah video, kategori, dan negara."
      ],
      "metadata": {
        "id": "n28K1DKEsqdJ"
      }
    },
    {
      "cell_type": "markdown",
      "source": [
        "# Project Plan"
      ],
      "metadata": {
        "id": "e3itUAHwtXri"
      }
    },
    {
      "cell_type": "markdown",
      "source": [
        "Langkah-langkah yang akan dilakukan dalam proyek ini:\n",
        "\n",
        "Tahap 1: Data Understanding\n",
        "Mengunduh dan mengeksplorasi dataset, memahami distribusi data dan fitur-fitur yang tersedia, membersihkan data jika ada duplikasi atau anomali.\n",
        "\n",
        "Tahap 2: Data Preparation\n",
        "Mengatasi missing values, normalisasi dan transformasi data jika diperlukan, feature engineering.\n",
        "\n",
        "Tahap 3: Exploratory Data Analysis,visualisasi hubungan antara jumlah subscriber, total views, dan jumlah video, menganalisis kategori channel yang paling populer, mengamati distribusi channel berdasarkan negara.\n",
        "\n",
        "Tahap 4: Modeling & Analysis\n",
        "Membangun model regresi atau klasifikasi untuk memprediksi performa channel, clustering untuk menemukan pola grup channel dengan karakteristik yang mirip.\n",
        "\n",
        "Tahap 5: Evaluation & Deployment\n",
        "Mengevaluasi hasil model dan interpretasi insight yang diperoleh, menyusun rekomendasi strategi berbasis data.\n"
      ],
      "metadata": {
        "id": "GuiKt807td8y"
      }
    },
    {
      "cell_type": "markdown",
      "source": [],
      "metadata": {
        "id": "thMQ826Mu-Rw"
      }
    },
    {
      "cell_type": "markdown",
      "source": [],
      "metadata": {
        "id": "FDhHaJ5vt8ht"
      }
    }
  ]
}